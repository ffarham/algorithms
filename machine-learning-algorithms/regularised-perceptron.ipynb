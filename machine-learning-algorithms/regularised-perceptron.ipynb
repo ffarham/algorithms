{
 "cells": [
  {
   "cell_type": "markdown",
   "metadata": {},
   "source": [
    "# Regularised Perceptron"
   ]
  },
  {
   "cell_type": "code",
   "execution_count": 196,
   "metadata": {},
   "outputs": [],
   "source": [
    "import numpy as np"
   ]
  },
  {
   "cell_type": "code",
   "execution_count": 197,
   "metadata": {},
   "outputs": [],
   "source": [
    "import matplotlib.pyplot as plt\n",
    "import itertools\n",
    "import warnings\n",
    "\n",
    "def plotit(X,Y=None,clf=None,  conts = None, ccolors = ('b','k','r'), colors = ('c','y'), markers = ('s','o'), hold = False, transform = None,extent = None,**kwargs):\n",
    "    \"\"\"\n",
    "    DO NOT EDIT (from: https://github.com/foxtrotmike/plotit)\n",
    "    A function for showing data scatter plot and classification boundary\n",
    "    of a classifier for 2D data\n",
    "        X: nxd  matrix of data points\n",
    "        Y: (optional) n vector of class labels\n",
    "        clf: (optional) classification/discriminant function handle\n",
    "        conts: (optional) contours (if None, contours are drawn for each class boundary)\n",
    "        ccolors: (optional) colors for contours   \n",
    "        colors: (optional) colors for each class (sorted wrt class id)\n",
    "            can be 'scaled' or 'random' or a list/tuple of color ids\n",
    "        markers: (optional) markers for each class (sorted wrt class id)\n",
    "        hold: Whether to hold the plot or not for overlay (default: False).\n",
    "        transform: (optional) a function handle for transforming data before passing to clf\n",
    "        kwargs: any keyword arguments to be passed to clf (if any)        \n",
    "    \"\"\"\n",
    "    if clf is not None and X.shape[1]!=2:\n",
    "        warnings.warn(\"Data Dimensionality is not 2. Unable to plot.\")\n",
    "        return\n",
    "    if markers is None:\n",
    "        markers = ('.',)\n",
    "    eps=1e-6\n",
    "    d0,d1 = (0,1)\n",
    "    if extent is None:\n",
    "        minx, maxx = np.min(X[:,d0])-eps, np.max(X[:,d0])+eps\n",
    "        miny, maxy = np.min(X[:,d1])-eps, np.max(X[:,d1])+eps\n",
    "        extent = [minx,maxx,miny,maxy]\n",
    "    else:\n",
    "        [minx,maxx,miny,maxy] = extent\n",
    "    if Y is not None:\n",
    "        classes = sorted(set(Y))\n",
    "        if conts is None:\n",
    "            conts = list(classes)        \n",
    "        vmin,vmax = classes[0]-eps,classes[-1]+eps\n",
    "    else:\n",
    "        vmin,vmax=-2-eps,2+eps\n",
    "        if conts is None:            \n",
    "            conts = sorted([-1+eps,0,1-eps])\n",
    "        \n",
    "    if clf is not None:\n",
    "        npts = 150\n",
    "        x = np.linspace(minx,maxx,npts)\n",
    "        y = np.linspace(miny,maxy,npts)\n",
    "        t = np.array(list(itertools.product(x,y)))\n",
    "        if transform is not None:\n",
    "            t = transform(t)\n",
    "        z = clf(t,**kwargs)\n",
    "        \n",
    "        z = np.reshape(z,(npts,npts)).T        \n",
    "        \n",
    "        \n",
    "        plt.contour(x,y,z,conts,linewidths = [2],colors=ccolors,extent=extent, label='f(x)=0')\n",
    "        #plt.imshow(np.flipud(z), extent = extent, cmap=plt.cm.Purples, vmin = -2, vmax = +2); plt.colorbar()\n",
    "        plt.pcolormesh(x, y, z,cmap=plt.cm.Purples,vmin=vmin,vmax=vmax);plt.colorbar()\n",
    "        plt.axis(extent)\n",
    "    \n",
    "    if Y is not None:        \n",
    "        for i,y in enumerate(classes):\n",
    "            if colors is None or colors=='scaled':\n",
    "                cc = np.array([[i,i,i]])/float(len(classes))\n",
    "            elif colors =='random':\n",
    "                cc = np.array([[np.random.rand(),np.random.rand(),np.random.rand()]])\n",
    "            else:\n",
    "                cc = colors[i%len(colors)]\n",
    "            mm = markers[i%len(markers)]\n",
    "            plt.scatter(X[Y==y,d0],X[Y==y,d1], marker = mm,c = cc, s = 30)     \n",
    "         \n",
    "    else:\n",
    "        plt.scatter(X[:,d0],X[:,d1],marker = markers[0], c = 'k', s = 5)\n",
    "    plt.xlabel('$x_1$')\n",
    "    plt.ylabel('$x_2$')   \n",
    "    if not hold:\n",
    "        plt.grid()        \n",
    "        plt.show()\n",
    "    return extent"
   ]
  },
  {
   "cell_type": "code",
   "execution_count": 294,
   "metadata": {},
   "outputs": [],
   "source": [
    "class RegularisedPerceptron:\n",
    "\n",
    "    def __init__(self, margin=0, Lambda=0, alpha=0.01, epochs=1000):\n",
    "        self.margin = margin    # in normal perceptron, the margin is 0\n",
    "        self.Lambda = Lambda    # this does not exist in the normal perceptron\n",
    "        self.alpha = alpha      \n",
    "        self.epochs = epochs\n",
    "    \n",
    "    def fit(self, X, y):\n",
    "        \n",
    "        dim = X.shape[1]\n",
    "        self.w = np.random.rand(dim)\n",
    "        self.b = np.random.rand()\n",
    "\n",
    "        for _ in range(self.epochs):\n",
    "            for index, x in enumerate(X):\n",
    "                label = y[index]\n",
    "                y_pred = np.dot(self.w, x) + self.b\n",
    "                \n",
    "                if label*y_pred < self.margin:\n",
    "                    self.w += self.alpha * label * x\n",
    "                    self.b += self.alpha * label\n",
    "                \n",
    "            self.w -= self.alpha * self.Lambda * self.w     # regularisation term\n",
    "\n",
    "    def predict(self, x):\n",
    "        return np.dot(x, self.w) + self.b\n",
    "\n",
    "\n"
   ]
  },
  {
   "cell_type": "code",
   "execution_count": 295,
   "metadata": {},
   "outputs": [
    {
     "name": "stdout",
     "output_type": "stream",
     "text": [
      "Prediction [0,0]: 3.011834063161817\n",
      "Prediction [1,0]: 0.984360190869968\n",
      "Prediction [2,0]: -1.043113681421881\n",
      "Prediction [3,0]: -3.07058755371373\n"
     ]
    },
    {
     "name": "stderr",
     "output_type": "stream",
     "text": [
      "/var/folders/tm/lpqjh3qj6md2lqjm0_gjlv6m0000gn/T/ipykernel_21430/126026940.py:52: UserWarning: The following kwargs were not used by contour: 'label'\n",
      "  plt.contour(x,y,z,conts,linewidths = [2],colors=ccolors,extent=extent, label='f(x)=0')\n"
     ]
    },
    {
     "data": {
      "image/png": "[encoded data removed]",
      "text/plain": [
       "<Figure size 640x480 with 2 Axes>"
      ]
     },
     "metadata": {},
     "output_type": "display_data"
    }
   ],
   "source": [
    "if __name__ == '__main__':\n",
    "\n",
    "    X = np.array([[0,0], [1,0], [2,0], [3,0]])\n",
    "    y = np.array([1,1,-1,-1])\n",
    "\n",
    "    clf = RegularisedPerceptron(margin=1, Lambda=0.1, epochs=10000)\n",
    "    clf.fit(X,y)\n",
    "\n",
    "    print(f'Prediction [0,0]: {clf.predict(np.array([0,0]))}')\n",
    "    print(f'Prediction [1,0]: {clf.predict(np.array([1,0]))}')\n",
    "    print(f'Prediction [2,0]: {clf.predict(np.array([2,0]))}')\n",
    "    print(f'Prediction [3,0]: {clf.predict(np.array([3,0]))}')\n",
    "\n",
    "    plotit(X,y,clf=clf.predict,conts=[0],extent = [-5,+5,-5,+5])"
   ]
  }
 ],
 "metadata": {
  "kernelspec": {
   "display_name": "base",
   "language": "python",
   "name": "python3"
  },
  "language_info": {
   "codemirror_mode": {
    "name": "ipython",
    "version": 3
   },
   "file_extension": ".py",
   "mimetype": "text/x-python",
   "name": "python",
   "nbconvert_exporter": "python",
   "pygments_lexer": "ipython3",
   "version": "3.11.4"
  }
 },
 "nbformat": 4,
 "nbformat_minor": 2
}
