{
 "cells": [
  {
   "cell_type": "markdown",
   "metadata": {},
   "source": [
    "### Perceptron"
   ]
  },
  {
   "cell_type": "code",
   "execution_count": 52,
   "metadata": {},
   "outputs": [],
   "source": [
    "import numpy as np"
   ]
  },
  {
   "cell_type": "code",
   "execution_count": 103,
   "metadata": {},
   "outputs": [],
   "source": [
    "import matplotlib.pyplot as plt\n",
    "import itertools\n",
    "import warnings\n",
    "\n",
    "def plotit(X,Y=None,clf=None,  conts = None, ccolors = ('b','k','r'), colors = ('c','y'), markers = ('s','o'), hold = False, transform = None,extent = None,**kwargs):\n",
    "    \"\"\"\n",
    "    A function for showing data scatter plot and classification boundary\n",
    "    of a classifier for 2D data\n",
    "        X: nxd  matrix of data points\n",
    "        Y: (optional) n vector of class labels\n",
    "        clf: (optional) classification/discriminant function handle\n",
    "        conts: (optional) contours (if None, contours are drawn for each class boundary)\n",
    "        ccolors: (optional) colors for contours   \n",
    "        colors: (optional) colors for each class (sorted wrt class id)\n",
    "            can be 'scaled' or 'random' or a list/tuple of color ids\n",
    "        markers: (optional) markers for each class (sorted wrt class id)\n",
    "        hold: Whether to hold the plot or not for overlay (default: False).\n",
    "        transform: (optional) a function handle for transforming data before passing to clf\n",
    "        kwargs: any keyword arguments to be passed to clf (if any)        \n",
    "    \"\"\"\n",
    "    if clf is not None and X.shape[1]!=2:\n",
    "        warnings.warn(\"Data Dimensionality is not 2. Unable to plot.\")\n",
    "        return\n",
    "    if markers is None:\n",
    "        markers = ('.',)\n",
    "    eps=1e-6\n",
    "    d0,d1 = (0,1)\n",
    "    if extent is None:\n",
    "        minx, maxx = np.min(X[:,d0])-eps, np.max(X[:,d0])+eps\n",
    "        miny, maxy = np.min(X[:,d1])-eps, np.max(X[:,d1])+eps\n",
    "        extent = [minx,maxx,miny,maxy]\n",
    "    else:\n",
    "        [minx,maxx,miny,maxy] = extent\n",
    "    if Y is not None:\n",
    "        classes = sorted(set(Y))\n",
    "        if conts is None:\n",
    "            conts = list(classes)        \n",
    "        vmin,vmax = classes[0]-eps,classes[-1]+eps\n",
    "    else:\n",
    "        vmin,vmax=-2-eps,2+eps\n",
    "        if conts is None:            \n",
    "            conts = sorted([-1+eps,0,1-eps])\n",
    "        \n",
    "    if clf is not None:\n",
    "        npts = 150\n",
    "        x = np.linspace(minx,maxx,npts)\n",
    "        y = np.linspace(miny,maxy,npts)\n",
    "        t = np.array(list(itertools.product(x,y)))\n",
    "        if transform is not None:\n",
    "            t = transform(t)\n",
    "        z = clf(t,**kwargs)\n",
    "        \n",
    "        z = np.reshape(z,(npts,npts)).T        \n",
    "        \n",
    "        \n",
    "        plt.contour(x,y,z,conts,linewidths = [2],colors=ccolors,extent=extent, label='f(x)=0')\n",
    "        #plt.imshow(np.flipud(z), extent = extent, cmap=plt.cm.Purples, vmin = -2, vmax = +2); plt.colorbar()\n",
    "        plt.pcolormesh(x, y, z,cmap=plt.cm.Purples,vmin=vmin,vmax=vmax);plt.colorbar()\n",
    "        plt.axis(extent)\n",
    "    \n",
    "    if Y is not None:        \n",
    "        for i,y in enumerate(classes):\n",
    "            if colors is None or colors=='scaled':\n",
    "                cc = np.array([[i,i,i]])/float(len(classes))\n",
    "            elif colors =='random':\n",
    "                cc = np.array([[np.random.rand(),np.random.rand(),np.random.rand()]])\n",
    "            else:\n",
    "                cc = colors[i%len(colors)]\n",
    "            mm = markers[i%len(markers)]\n",
    "            plt.scatter(X[Y==y,d0],X[Y==y,d1], marker = mm,c = cc, s = 30)     \n",
    "         \n",
    "    else:\n",
    "        plt.scatter(X[:,d0],X[:,d1],marker = markers[0], c = 'k', s = 5)\n",
    "    plt.xlabel('$x_1$')\n",
    "    plt.ylabel('$x_2$')   \n",
    "    if not hold:\n",
    "        plt.grid()        \n",
    "        plt.show()\n",
    "    return extent"
   ]
  },
  {
   "cell_type": "code",
   "execution_count": 89,
   "metadata": {},
   "outputs": [],
   "source": [
    "class Perceptron:\n",
    "\n",
    "    def __init__(self, alpha = 0.01, epochs=500):\n",
    "        self.alpha = alpha\n",
    "        self.epochs = epochs\n",
    "\n",
    "    def fit(self, X,y):\n",
    "        self.dim = X.shape[1]\n",
    "        self.w = np.random.rand(self.dim)\n",
    "        self.b = np.random.rand()\n",
    "\n",
    "        for e in range(self.epochs):\n",
    "            finished = True\n",
    "            for index, x in enumerate(X):\n",
    "                label = y[index]\n",
    "                y_pred = np.dot(self.w, x) + self.b\n",
    "\n",
    "                if label * y_pred < 0:\n",
    "                    finished = False\n",
    "                    self.w += self.alpha * label * x    # differentiate the discriminant w.r.t w\n",
    "                    self.b += self.alpha * label        # differentiate the discriminant w.r.t b\n",
    "                \n",
    "            if finished: \n",
    "                print(f'Finished {round((e/self.epochs) * 100, 2)}% into the epochs.')\n",
    "                break\n",
    "    \n",
    "    def predict(self, x):\n",
    "        return np.sign(np.dot(x, self.w) + self.b)\n"
   ]
  },
  {
   "cell_type": "code",
   "execution_count": 134,
   "metadata": {},
   "outputs": [
    {
     "name": "stdout",
     "output_type": "stream",
     "text": [
      "Finished 4.0% into the epochs.\n",
      "Prediction [0,0]: 1.0\n",
      "Prediction [1,0]: 1.0\n",
      "Prediction [2,0]: -1.0\n",
      "Prediction [3,0]: -1.0\n"
     ]
    },
    {
     "name": "stderr",
     "output_type": "stream",
     "text": [
      "/var/folders/tm/lpqjh3qj6md2lqjm0_gjlv6m0000gn/T/ipykernel_21657/4293683912.py:56: UserWarning: The following kwargs were not used by contour: 'label'\n",
      "  plt.contour(x,y,z,conts,linewidths = [2],colors=ccolors,extent=extent, label='f(x)=0')\n"
     ]
    },
    {
     "data": {
      "image/png": "[encoded data removed]",
      "text/plain": [
       "<Figure size 640x480 with 2 Axes>"
      ]
     },
     "metadata": {},
     "output_type": "display_data"
    }
   ],
   "source": [
    "if __name__ == '__main__':\n",
    "\n",
    "    X = np.array([[0,0], [1,0], [2,0], [3,0]])\n",
    "    y = np.array([1,1,-1,-1])\n",
    "\n",
    "    clf = Perceptron()\n",
    "    clf.fit(X,y)\n",
    "\n",
    "    print(f'Prediction [0,0]: {clf.predict(np.array([0,0]))}')\n",
    "    print(f'Prediction [1,0]: {clf.predict(np.array([1,0]))}')\n",
    "    print(f'Prediction [2,0]: {clf.predict(np.array([2,0]))}')\n",
    "    print(f'Prediction [3,0]: {clf.predict(np.array([3,0]))}')\n",
    "\n",
    "    plotit(X,y,clf=clf.predict,conts=[0],extent = [-5,+5,-5,+5])"
   ]
  }
 ],
 "metadata": {
  "kernelspec": {
   "display_name": "base",
   "language": "python",
   "name": "python3"
  },
  "language_info": {
   "codemirror_mode": {
    "name": "ipython",
    "version": 3
   },
   "file_extension": ".py",
   "mimetype": "text/x-python",
   "name": "python",
   "nbconvert_exporter": "python",
   "pygments_lexer": "ipython3",
   "version": "3.11.4"
  }
 },
 "nbformat": 4,
 "nbformat_minor": 2
}
